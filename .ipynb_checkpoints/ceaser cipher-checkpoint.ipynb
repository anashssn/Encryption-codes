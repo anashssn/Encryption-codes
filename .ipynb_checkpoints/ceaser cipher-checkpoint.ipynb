{
 "cells": [
  {
   "cell_type": "code",
   "execution_count": 1,
   "id": "4e66b922",
   "metadata": {},
   "outputs": [],
   "source": [
    "def encrypt(text, shift):\n",
    "    encrypted_text = \"\"\n",
    "    for char in text:\n",
    "        # Encrypt uppercase characters\n",
    "        if char.isupper():\n",
    "            encrypted_text += chr((ord(char) + shift - 65) % 26 + 65)\n",
    "        # Encrypt lowercase characters\n",
    "        elif char.islower():\n",
    "            encrypted_text += chr((ord(char) + shift - 97) % 26 + 97)\n",
    "        # Leave other characters unchanged\n",
    "        else:\n",
    "            encrypted_text += char\n",
    "    return encrypted_text"
   ]
  },
  {
   "cell_type": "code",
   "execution_count": 2,
   "id": "7d2b3e3a",
   "metadata": {},
   "outputs": [],
   "source": [
    "def decrypt(encrypted_text, shift):\n",
    "    decrypted_text = \"\"\n",
    "    for char in encrypted_text:\n",
    "        # Decrypt uppercase characters\n",
    "        if char.isupper():\n",
    "            decrypted_text += chr((ord(char) - shift - 65) % 26 + 65)\n",
    "        # Decrypt lowercase characters\n",
    "        elif char.islower():\n",
    "            decrypted_text += chr((ord(char) - shift - 97) % 26 + 97)\n",
    "        # Leave other characters unchanged\n",
    "        else:\n",
    "            decrypted_text += char\n",
    "    return decrypted_text\n"
   ]
  },
  {
   "cell_type": "code",
   "execution_count": 3,
   "id": "1d0d606e",
   "metadata": {},
   "outputs": [
    {
     "name": "stdout",
     "output_type": "stream",
     "text": [
      "Welcome to Caesar Cipher!\n",
      "Enter the message to encrypt: my name is anas hussain\n",
      "Enter the shift value (a positive integer): 3\n",
      "\n",
      "Encrypted message: pb qdph lv dqdv kxvvdlq\n",
      "Do you want to decrypt this message? (yes/no): yes\n",
      "\n",
      "Decrypted message: my name is anas hussain\n"
     ]
    }
   ],
   "source": [
    "def main():\n",
    "    print(\"Welcome to Caesar Cipher!\")\n",
    "    text = input(\"Enter the message to encrypt: \")\n",
    "    shift = int(input(\"Enter the shift value (a positive integer): \"))\n",
    "    \n",
    "    encrypted_text = encrypt(text, shift)\n",
    "    print(\"\\nEncrypted message:\", encrypted_text)\n",
    "    \n",
    "    decrypt_choice = input(\"Do you want to decrypt this message? (yes/no): \").lower()\n",
    "    if decrypt_choice == \"yes\":\n",
    "        decrypted_text = decrypt(encrypted_text, shift)\n",
    "        print(\"\\nDecrypted message:\", decrypted_text)\n",
    "    else:\n",
    "        print(\"Thank you for using Caesar Cipher!\")\n",
    "\n",
    "if __name__ == \"__main__\":\n",
    "    main()\n"
   ]
  },
  {
   "cell_type": "code",
   "execution_count": 3,
   "id": "ba03ffb0",
   "metadata": {},
   "outputs": [
    {
     "data": {
      "text/plain": [
       "2"
      ]
     },
     "execution_count": 3,
     "metadata": {},
     "output_type": "execute_result"
    }
   ],
   "source": [
    "4"
   ]
  },
  {
   "cell_type": "code",
   "execution_count": null,
   "id": "e475ea12",
   "metadata": {},
   "outputs": [],
   "source": []
  }
 ],
 "metadata": {
  "kernelspec": {
   "display_name": "Python 3 (ipykernel)",
   "language": "python",
   "name": "python3"
  },
  "language_info": {
   "codemirror_mode": {
    "name": "ipython",
    "version": 3
   },
   "file_extension": ".py",
   "mimetype": "text/x-python",
   "name": "python",
   "nbconvert_exporter": "python",
   "pygments_lexer": "ipython3",
   "version": "3.9.7"
  }
 },
 "nbformat": 4,
 "nbformat_minor": 5
}
