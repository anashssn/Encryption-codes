{
 "cells": [
  {
   "cell_type": "code",
   "execution_count": 1,
   "id": "2b6f6cff",
   "metadata": {},
   "outputs": [],
   "source": [
    "def generate_shifted_alphabet(shift):\n",
    "    \"\"\" Generates a shifted alphabet based on a given shift amount. \"\"\"\n",
    "    alphabet = 'ABCDEFGHIJKLMNOPQRSTUVWXYZ' \n",
    "    shifted = alphabet[shift:] + alphabet[:shift]  # Rotate the alphabet\n",
    "    return shifted"
   ]
  },
  {
   "cell_type": "code",
   "execution_count": 2,
   "id": "80b8faf0",
   "metadata": {},
   "outputs": [],
   "source": [
    "def encrypt(text, key):\n",
    "    \"\"\"Encrypts text using the Vigenère cipher.\"\"\"\n",
    "    encrypted_text = \"\"\n",
    "    key_index = 0\n",
    "\n",
    "    for char in text:\n",
    "        if char.isalpha():\n",
    "            original_alphabet = 'ABCDEFGHIJKLMNOPQRSTUVWXYZ'\n",
    "            shift_amount = original_alphabet.index(key[key_index].upper())\n",
    "            shifted_alphabet = generate_shifted_alphabet(shift_amount)\n",
    "\n",
    "            new_index = original_alphabet.index(char.upper())\n",
    "            new_char = shifted_alphabet[new_index]\n",
    "\n",
    "            encrypted_text += new_char.lower() if char.islower() else new_char\n",
    "            key_index = (key_index + 1) % len(key)\n",
    "        else:\n",
    "            encrypted_text += char\n",
    "\n",
    "    return encrypted_text"
   ]
  },
  {
   "cell_type": "code",
   "execution_count": 3,
   "id": "e70fefcb",
   "metadata": {},
   "outputs": [],
   "source": [
    "def decrypt(text, key):\n",
    "    \"\"\"Decrypts text using the Vigenère cipher.\"\"\"\n",
    "    decrypted_text = \"\"\n",
    "    key_index = 0\n",
    "\n",
    "    for char in text:\n",
    "        if char.isalpha():\n",
    "            original_alphabet = 'ABCDEFGHIJKLMNOPQRSTUVWXYZ'\n",
    "            shift_amount = original_alphabet.index(key[key_index].upper())\n",
    "            shifted_alphabet = generate_shifted_alphabet(shift_amount)\n",
    "\n",
    "            new_index = shifted_alphabet.index(char.upper())  # Find index in shifted alphabet\n",
    "            new_char = original_alphabet[new_index]  # Get the original character\n",
    "\n",
    "            decrypted_text += new_char.lower() if char.islower() else new_char\n",
    "            key_index = (key_index + 1) % len(key)\n",
    "        else:\n",
    "            decrypted_text += char\n",
    "\n",
    "    return decrypted_text"
   ]
  },
  {
   "cell_type": "code",
   "execution_count": 7,
   "id": "913cc608",
   "metadata": {},
   "outputs": [
    {
     "name": "stdout",
     "output_type": "stream",
     "text": [
      "Ciphertext: LRMGFDWE\n",
      "Decrypted Text: ANASSSSS\n"
     ]
    }
   ],
   "source": [
    "plaintext = \"ANASSSSS\"\n",
    "keyword = \"lemon\"\n",
    "\n",
    "ciphertext = encrypt(plaintext, keyword)\n",
    "decrypted_text = decrypt(ciphertext, keyword)\n",
    "\n",
    "print(\"Ciphertext:\", ciphertext)\n",
    "print(\"Decrypted Text:\", decrypted_text)"
   ]
  },
  {
   "cell_type": "code",
   "execution_count": null,
   "id": "07887cb9",
   "metadata": {},
   "outputs": [],
   "source": []
  }
 ],
 "metadata": {
  "kernelspec": {
   "display_name": "Python 3 (ipykernel)",
   "language": "python",
   "name": "python3"
  },
  "language_info": {
   "codemirror_mode": {
    "name": "ipython",
    "version": 3
   },
   "file_extension": ".py",
   "mimetype": "text/x-python",
   "name": "python",
   "nbconvert_exporter": "python",
   "pygments_lexer": "ipython3",
   "version": "3.9.7"
  }
 },
 "nbformat": 4,
 "nbformat_minor": 5
}
