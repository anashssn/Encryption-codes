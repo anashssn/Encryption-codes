{
 "cells": [
  {
   "cell_type": "code",
   "execution_count": 1,
   "id": "08a18842",
   "metadata": {},
   "outputs": [],
   "source": [
    "import random"
   ]
  },
  {
   "cell_type": "code",
   "execution_count": 2,
   "id": "4dd1f8e0",
   "metadata": {},
   "outputs": [],
   "source": [
    "def generate_key(message_length):\n",
    "    key = ''\n",
    "    for _ in range(message_length):\n",
    "        key += chr(random.randint(0, 255))\n",
    "    return key"
   ]
  },
  {
   "cell_type": "code",
   "execution_count": 3,
   "id": "34e428fa",
   "metadata": {},
   "outputs": [],
   "source": [
    "def vernam_encrypt(message, key):\n",
    "    encrypted_message = ''\n",
    "    for i in range(len(message)):\n",
    "        encrypted_char = chr((ord(message[i]) + ord(key[i])) % 256) #xor karna hota hai ascii valure ko\n",
    "        encrypted_message += encrypted_char\n",
    "    return encrypted_message"
   ]
  },
  {
   "cell_type": "code",
   "execution_count": 4,
   "id": "807a99a5",
   "metadata": {},
   "outputs": [],
   "source": [
    "def vernam_decrypt(encrypted_message, key):\n",
    "    decrypted_message = ''\n",
    "    for i in range(len(encrypted_message)):\n",
    "        decrypted_char = chr((ord(encrypted_message[i]) - ord(key[i])) % 256) #256 to wrap around the values\n",
    "        decrypted_message += decrypted_char\n",
    "    return decrypted_message"
   ]
  },
  {
   "cell_type": "code",
   "execution_count": 9,
   "id": "ffe1d285",
   "metadata": {},
   "outputs": [
    {
     "name": "stdout",
     "output_type": "stream",
     "text": [
      "Encrypted: !W.\n",
      "Decrypted: SSS\n"
     ]
    }
   ],
   "source": [
    "message = \"SSS\"\n",
    "key = generate_key(len(message))\n",
    "encrypted_message = vernam_encrypt(message, key)\n",
    "print(\"Encrypted:\", encrypted_message)\n",
    "decrypted_message = vernam_decrypt(encrypted_message, key)\n",
    "print(\"Decrypted:\", decrypted_message)"
   ]
  }
 ],
 "metadata": {
  "kernelspec": {
   "display_name": "Python 3 (ipykernel)",
   "language": "python",
   "name": "python3"
  },
  "language_info": {
   "codemirror_mode": {
    "name": "ipython",
    "version": 3
   },
   "file_extension": ".py",
   "mimetype": "text/x-python",
   "name": "python",
   "nbconvert_exporter": "python",
   "pygments_lexer": "ipython3",
   "version": "3.9.7"
  }
 },
 "nbformat": 4,
 "nbformat_minor": 5
}
