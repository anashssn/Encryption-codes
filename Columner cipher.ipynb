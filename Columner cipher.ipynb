{
 "cells": [
  {
   "cell_type": "code",
   "execution_count": 1,
   "id": "1dd5c584",
   "metadata": {},
   "outputs": [],
   "source": [
    "def preprocess(text):\n",
    "    return text.upper().replace(\" \", \"\")  # Remove spaces, make uppercase\n",
    "\n",
    "def columnar_encrypt(message, key):\n",
    "    order = {\n",
    "        char: num for num, char in enumerate(sorted(key))\n",
    "    }\n",
    "\n",
    "    ciphertext = ''\n",
    "    for char in order:\n",
    "        column = message.find(char) * len(message) // len(key)\n",
    "        while column < len(message):\n",
    "            ciphertext += message[column]\n",
    "            column += len(key)\n",
    "\n",
    "    return ciphertext\n"
   ]
  },
  {
   "cell_type": "code",
   "execution_count": 2,
   "id": "7053e693",
   "metadata": {},
   "outputs": [],
   "source": [
    "def columnar_decrypt(ciphertext, key):\n",
    "    order = {\n",
    "        char: num for num, char in enumerate(sorted(key))\n",
    "    }\n",
    "\n",
    "    num_cols = len(key)\n",
    "    num_rows = len(ciphertext) // num_cols\n",
    "    num_extra = len(ciphertext) % num_cols\n",
    "    message = [''] * num_cols\n",
    "    col = 0\n",
    "    row = 0\n",
    "\n",
    "    for char in ciphertext:\n",
    "        message[col] += char\n",
    "        col += 1\n",
    "        if col == num_cols or (col == num_extra and row >= num_rows - 1):\n",
    "            col = 0\n",
    "            row += 1\n",
    "\n",
    "    return ''.join(message[order[char]] for char in order)"
   ]
  },
  {
   "cell_type": "code",
   "execution_count": 3,
   "id": "4083e301",
   "metadata": {},
   "outputs": [
    {
     "name": "stdout",
     "output_type": "stream",
     "text": [
      "Ciphertext: AHAANUIANUI\n",
      "Plaintext: ANAIHUNAIUA\n"
     ]
    }
   ],
   "source": [
    "message = \"ANAS HUSSAIN\"\n",
    "key = \"HACK\"\n",
    "\n",
    "processed_message = preprocess(message)\n",
    "ciphertext = columnar_encrypt(processed_message, key)\n",
    "plaintext = columnar_decrypt(ciphertext, key)\n",
    "\n",
    "print(\"Ciphertext:\", ciphertext)\n",
    "print(\"Plaintext:\", plaintext)"
   ]
  },
  {
   "cell_type": "code",
   "execution_count": null,
   "id": "e46cc75b",
   "metadata": {},
   "outputs": [],
   "source": []
  }
 ],
 "metadata": {
  "kernelspec": {
   "display_name": "Python 3 (ipykernel)",
   "language": "python",
   "name": "python3"
  },
  "language_info": {
   "codemirror_mode": {
    "name": "ipython",
    "version": 3
   },
   "file_extension": ".py",
   "mimetype": "text/x-python",
   "name": "python",
   "nbconvert_exporter": "python",
   "pygments_lexer": "ipython3",
   "version": "3.9.7"
  }
 },
 "nbformat": 4,
 "nbformat_minor": 5
}
